{
 "cells": [
  {
   "cell_type": "code",
   "execution_count": 1,
   "metadata": {},
   "outputs": [],
   "source": [
    "import pandas as pd\n",
    "import numpy as np\n",
    "import seaborn as sns\n",
    "import matplotlib.pyplot as plt\n",
    "import os\n",
    "from Gonzales import Gonzales\n",
    "from math import sqrt\n",
    "from collections import defaultdict\n",
    "from sklearn.cluster import KMeans\n",
    "from sklearn.decomposition import PCA\n",
    "import matplotlib as mpl\n",
    "from sklearn.cluster import AgglomerativeClustering, DBSCAN\n",
    "from scipy.cluster.hierarchy import dendrogram, linkage, fcluster, cut_tree"
   ]
  },
  {
   "cell_type": "code",
   "execution_count": 2,
   "metadata": {},
   "outputs": [],
   "source": [
    "DATA_PATH = \"data\""
   ]
  },
  {
   "cell_type": "code",
   "execution_count": 3,
   "metadata": {},
   "outputs": [
    {
     "data": {
      "text/plain": [
       "['Team_Attributes.csv',\n",
       " 'Player.csv',\n",
       " 'Match.csv',\n",
       " 'League.csv',\n",
       " 'Country.csv',\n",
       " 'Player_Attributes.csv',\n",
       " 'Team.csv']"
      ]
     },
     "execution_count": 3,
     "metadata": {},
     "output_type": "execute_result"
    }
   ],
   "source": [
    "os.listdir(DATA_PATH)"
   ]
  },
  {
   "cell_type": "code",
   "execution_count": 4,
   "metadata": {},
   "outputs": [
    {
     "data": {
      "text/plain": [
       "(183978, 42)"
      ]
     },
     "execution_count": 4,
     "metadata": {},
     "output_type": "execute_result"
    }
   ],
   "source": [
    "player_attr_raw = pd.read_csv(os.path.join(DATA_PATH, 'Player_Attributes.csv'))\n",
    "player_attr_raw.shape"
   ]
  },
  {
   "cell_type": "code",
   "execution_count": 5,
   "metadata": {},
   "outputs": [
    {
     "data": {
      "text/plain": [
       "(180354, 42)"
      ]
     },
     "execution_count": 5,
     "metadata": {},
     "output_type": "execute_result"
    }
   ],
   "source": [
    "player_attr = player_attr_raw.dropna()\n",
    "player_attr.shape"
   ]
  },
  {
   "cell_type": "code",
   "execution_count": 6,
   "metadata": {},
   "outputs": [],
   "source": [
    "unique_foot = player_attr['preferred_foot'].unique()\n"
   ]
  },
  {
   "cell_type": "code",
   "execution_count": 7,
   "metadata": {},
   "outputs": [],
   "source": [
    "\n",
    "unqiue_off_rate = player_attr['attacking_work_rate'].unique()\n"
   ]
  },
  {
   "cell_type": "code",
   "execution_count": 8,
   "metadata": {},
   "outputs": [],
   "source": [
    "\n",
    "unqiue_def_rate = player_attr['defensive_work_rate'].unique()"
   ]
  },
  {
   "cell_type": "code",
   "execution_count": 9,
   "metadata": {
    "scrolled": true
   },
   "outputs": [
    {
     "name": "stdout",
     "output_type": "stream",
     "text": [
      "<class 'pandas.core.frame.DataFrame'>\n",
      "Int64Index: 180354 entries, 0 to 183977\n",
      "Data columns (total 42 columns):\n",
      "id                     180354 non-null int64\n",
      "player_fifa_api_id     180354 non-null int64\n",
      "player_api_id          180354 non-null int64\n",
      "date                   180354 non-null object\n",
      "overall_rating         180354 non-null float64\n",
      "potential              180354 non-null float64\n",
      "preferred_foot         180354 non-null object\n",
      "attacking_work_rate    180354 non-null object\n",
      "defensive_work_rate    180354 non-null object\n",
      "crossing               180354 non-null float64\n",
      "finishing              180354 non-null float64\n",
      "heading_accuracy       180354 non-null float64\n",
      "short_passing          180354 non-null float64\n",
      "volleys                180354 non-null float64\n",
      "dribbling              180354 non-null float64\n",
      "curve                  180354 non-null float64\n",
      "free_kick_accuracy     180354 non-null float64\n",
      "long_passing           180354 non-null float64\n",
      "ball_control           180354 non-null float64\n",
      "acceleration           180354 non-null float64\n",
      "sprint_speed           180354 non-null float64\n",
      "agility                180354 non-null float64\n",
      "reactions              180354 non-null float64\n",
      "balance                180354 non-null float64\n",
      "shot_power             180354 non-null float64\n",
      "jumping                180354 non-null float64\n",
      "stamina                180354 non-null float64\n",
      "strength               180354 non-null float64\n",
      "long_shots             180354 non-null float64\n",
      "aggression             180354 non-null float64\n",
      "interceptions          180354 non-null float64\n",
      "positioning            180354 non-null float64\n",
      "vision                 180354 non-null float64\n",
      "penalties              180354 non-null float64\n",
      "marking                180354 non-null float64\n",
      "standing_tackle        180354 non-null float64\n",
      "sliding_tackle         180354 non-null float64\n",
      "gk_diving              180354 non-null float64\n",
      "gk_handling            180354 non-null float64\n",
      "gk_kicking             180354 non-null float64\n",
      "gk_positioning         180354 non-null float64\n",
      "gk_reflexes            180354 non-null float64\n",
      "dtypes: float64(35), int64(3), object(4)\n",
      "memory usage: 59.2+ MB\n"
     ]
    }
   ],
   "source": [
    "player_attr.info()"
   ]
  },
  {
   "cell_type": "code",
   "execution_count": 10,
   "metadata": {},
   "outputs": [
    {
     "data": {
      "text/html": [
       "<div>\n",
       "<style scoped>\n",
       "    .dataframe tbody tr th:only-of-type {\n",
       "        vertical-align: middle;\n",
       "    }\n",
       "\n",
       "    .dataframe tbody tr th {\n",
       "        vertical-align: top;\n",
       "    }\n",
       "\n",
       "    .dataframe thead th {\n",
       "        text-align: right;\n",
       "    }\n",
       "</style>\n",
       "<table border=\"1\" class=\"dataframe\">\n",
       "  <thead>\n",
       "    <tr style=\"text-align: right;\">\n",
       "      <th></th>\n",
       "      <th>id</th>\n",
       "      <th>player_fifa_api_id</th>\n",
       "      <th>player_api_id</th>\n",
       "      <th>overall_rating</th>\n",
       "      <th>potential</th>\n",
       "      <th>crossing</th>\n",
       "      <th>finishing</th>\n",
       "      <th>heading_accuracy</th>\n",
       "      <th>short_passing</th>\n",
       "      <th>volleys</th>\n",
       "      <th>...</th>\n",
       "      <th>vision</th>\n",
       "      <th>penalties</th>\n",
       "      <th>marking</th>\n",
       "      <th>standing_tackle</th>\n",
       "      <th>sliding_tackle</th>\n",
       "      <th>gk_diving</th>\n",
       "      <th>gk_handling</th>\n",
       "      <th>gk_kicking</th>\n",
       "      <th>gk_positioning</th>\n",
       "      <th>gk_reflexes</th>\n",
       "    </tr>\n",
       "  </thead>\n",
       "  <tbody>\n",
       "    <tr>\n",
       "      <th>count</th>\n",
       "      <td>180354.000000</td>\n",
       "      <td>180354.000000</td>\n",
       "      <td>180354.000000</td>\n",
       "      <td>180354.000000</td>\n",
       "      <td>180354.000000</td>\n",
       "      <td>180354.000000</td>\n",
       "      <td>180354.000000</td>\n",
       "      <td>180354.000000</td>\n",
       "      <td>180354.000000</td>\n",
       "      <td>180354.000000</td>\n",
       "      <td>...</td>\n",
       "      <td>180354.000000</td>\n",
       "      <td>180354.000000</td>\n",
       "      <td>180354.000000</td>\n",
       "      <td>180354.000000</td>\n",
       "      <td>180354.000000</td>\n",
       "      <td>180354.000000</td>\n",
       "      <td>180354.000000</td>\n",
       "      <td>180354.000000</td>\n",
       "      <td>180354.000000</td>\n",
       "      <td>180354.00000</td>\n",
       "    </tr>\n",
       "    <tr>\n",
       "      <th>mean</th>\n",
       "      <td>91995.886274</td>\n",
       "      <td>166822.125803</td>\n",
       "      <td>137653.145514</td>\n",
       "      <td>68.635317</td>\n",
       "      <td>73.479457</td>\n",
       "      <td>55.142071</td>\n",
       "      <td>49.962136</td>\n",
       "      <td>57.263476</td>\n",
       "      <td>62.486726</td>\n",
       "      <td>49.488927</td>\n",
       "      <td>...</td>\n",
       "      <td>57.868176</td>\n",
       "      <td>54.933448</td>\n",
       "      <td>46.757433</td>\n",
       "      <td>50.354065</td>\n",
       "      <td>48.029342</td>\n",
       "      <td>14.696685</td>\n",
       "      <td>15.947786</td>\n",
       "      <td>20.526304</td>\n",
       "      <td>16.015043</td>\n",
       "      <td>16.32531</td>\n",
       "    </tr>\n",
       "    <tr>\n",
       "      <th>std</th>\n",
       "      <td>53092.657914</td>\n",
       "      <td>52821.443279</td>\n",
       "      <td>137599.735284</td>\n",
       "      <td>7.027950</td>\n",
       "      <td>6.581963</td>\n",
       "      <td>17.247231</td>\n",
       "      <td>19.041760</td>\n",
       "      <td>16.478716</td>\n",
       "      <td>14.172493</td>\n",
       "      <td>18.252319</td>\n",
       "      <td>...</td>\n",
       "      <td>15.152408</td>\n",
       "      <td>15.556645</td>\n",
       "      <td>21.226730</td>\n",
       "      <td>21.496289</td>\n",
       "      <td>21.592830</td>\n",
       "      <td>16.841454</td>\n",
       "      <td>15.841297</td>\n",
       "      <td>21.143898</td>\n",
       "      <td>16.070772</td>\n",
       "      <td>17.18545</td>\n",
       "    </tr>\n",
       "    <tr>\n",
       "      <th>min</th>\n",
       "      <td>1.000000</td>\n",
       "      <td>2.000000</td>\n",
       "      <td>2625.000000</td>\n",
       "      <td>33.000000</td>\n",
       "      <td>39.000000</td>\n",
       "      <td>1.000000</td>\n",
       "      <td>1.000000</td>\n",
       "      <td>1.000000</td>\n",
       "      <td>3.000000</td>\n",
       "      <td>1.000000</td>\n",
       "      <td>...</td>\n",
       "      <td>1.000000</td>\n",
       "      <td>2.000000</td>\n",
       "      <td>1.000000</td>\n",
       "      <td>1.000000</td>\n",
       "      <td>2.000000</td>\n",
       "      <td>1.000000</td>\n",
       "      <td>1.000000</td>\n",
       "      <td>1.000000</td>\n",
       "      <td>1.000000</td>\n",
       "      <td>1.00000</td>\n",
       "    </tr>\n",
       "    <tr>\n",
       "      <th>25%</th>\n",
       "      <td>46074.250000</td>\n",
       "      <td>156616.000000</td>\n",
       "      <td>35451.000000</td>\n",
       "      <td>64.000000</td>\n",
       "      <td>69.000000</td>\n",
       "      <td>45.000000</td>\n",
       "      <td>34.000000</td>\n",
       "      <td>49.000000</td>\n",
       "      <td>57.000000</td>\n",
       "      <td>35.000000</td>\n",
       "      <td>...</td>\n",
       "      <td>49.000000</td>\n",
       "      <td>45.000000</td>\n",
       "      <td>25.000000</td>\n",
       "      <td>29.000000</td>\n",
       "      <td>25.000000</td>\n",
       "      <td>7.000000</td>\n",
       "      <td>8.000000</td>\n",
       "      <td>8.000000</td>\n",
       "      <td>8.000000</td>\n",
       "      <td>8.00000</td>\n",
       "    </tr>\n",
       "    <tr>\n",
       "      <th>50%</th>\n",
       "      <td>92003.500000</td>\n",
       "      <td>183792.000000</td>\n",
       "      <td>80291.000000</td>\n",
       "      <td>69.000000</td>\n",
       "      <td>74.000000</td>\n",
       "      <td>59.000000</td>\n",
       "      <td>53.000000</td>\n",
       "      <td>60.000000</td>\n",
       "      <td>65.000000</td>\n",
       "      <td>52.000000</td>\n",
       "      <td>...</td>\n",
       "      <td>60.000000</td>\n",
       "      <td>57.000000</td>\n",
       "      <td>50.000000</td>\n",
       "      <td>56.000000</td>\n",
       "      <td>53.000000</td>\n",
       "      <td>10.000000</td>\n",
       "      <td>11.000000</td>\n",
       "      <td>12.000000</td>\n",
       "      <td>11.000000</td>\n",
       "      <td>11.00000</td>\n",
       "    </tr>\n",
       "    <tr>\n",
       "      <th>75%</th>\n",
       "      <td>137935.750000</td>\n",
       "      <td>200138.000000</td>\n",
       "      <td>192841.000000</td>\n",
       "      <td>73.000000</td>\n",
       "      <td>78.000000</td>\n",
       "      <td>68.000000</td>\n",
       "      <td>65.000000</td>\n",
       "      <td>68.000000</td>\n",
       "      <td>72.000000</td>\n",
       "      <td>64.000000</td>\n",
       "      <td>...</td>\n",
       "      <td>69.000000</td>\n",
       "      <td>67.000000</td>\n",
       "      <td>66.000000</td>\n",
       "      <td>69.000000</td>\n",
       "      <td>67.000000</td>\n",
       "      <td>13.000000</td>\n",
       "      <td>15.000000</td>\n",
       "      <td>15.000000</td>\n",
       "      <td>15.000000</td>\n",
       "      <td>15.00000</td>\n",
       "    </tr>\n",
       "    <tr>\n",
       "      <th>max</th>\n",
       "      <td>183978.000000</td>\n",
       "      <td>234141.000000</td>\n",
       "      <td>750584.000000</td>\n",
       "      <td>94.000000</td>\n",
       "      <td>97.000000</td>\n",
       "      <td>95.000000</td>\n",
       "      <td>97.000000</td>\n",
       "      <td>98.000000</td>\n",
       "      <td>97.000000</td>\n",
       "      <td>93.000000</td>\n",
       "      <td>...</td>\n",
       "      <td>97.000000</td>\n",
       "      <td>96.000000</td>\n",
       "      <td>94.000000</td>\n",
       "      <td>95.000000</td>\n",
       "      <td>95.000000</td>\n",
       "      <td>94.000000</td>\n",
       "      <td>93.000000</td>\n",
       "      <td>97.000000</td>\n",
       "      <td>96.000000</td>\n",
       "      <td>96.00000</td>\n",
       "    </tr>\n",
       "  </tbody>\n",
       "</table>\n",
       "<p>8 rows × 38 columns</p>\n",
       "</div>"
      ],
      "text/plain": [
       "                  id  player_fifa_api_id  player_api_id  overall_rating  \\\n",
       "count  180354.000000       180354.000000  180354.000000   180354.000000   \n",
       "mean    91995.886274       166822.125803  137653.145514       68.635317   \n",
       "std     53092.657914        52821.443279  137599.735284        7.027950   \n",
       "min         1.000000            2.000000    2625.000000       33.000000   \n",
       "25%     46074.250000       156616.000000   35451.000000       64.000000   \n",
       "50%     92003.500000       183792.000000   80291.000000       69.000000   \n",
       "75%    137935.750000       200138.000000  192841.000000       73.000000   \n",
       "max    183978.000000       234141.000000  750584.000000       94.000000   \n",
       "\n",
       "           potential       crossing      finishing  heading_accuracy  \\\n",
       "count  180354.000000  180354.000000  180354.000000     180354.000000   \n",
       "mean       73.479457      55.142071      49.962136         57.263476   \n",
       "std         6.581963      17.247231      19.041760         16.478716   \n",
       "min        39.000000       1.000000       1.000000          1.000000   \n",
       "25%        69.000000      45.000000      34.000000         49.000000   \n",
       "50%        74.000000      59.000000      53.000000         60.000000   \n",
       "75%        78.000000      68.000000      65.000000         68.000000   \n",
       "max        97.000000      95.000000      97.000000         98.000000   \n",
       "\n",
       "       short_passing        volleys      ...              vision  \\\n",
       "count  180354.000000  180354.000000      ...       180354.000000   \n",
       "mean       62.486726      49.488927      ...           57.868176   \n",
       "std        14.172493      18.252319      ...           15.152408   \n",
       "min         3.000000       1.000000      ...            1.000000   \n",
       "25%        57.000000      35.000000      ...           49.000000   \n",
       "50%        65.000000      52.000000      ...           60.000000   \n",
       "75%        72.000000      64.000000      ...           69.000000   \n",
       "max        97.000000      93.000000      ...           97.000000   \n",
       "\n",
       "           penalties        marking  standing_tackle  sliding_tackle  \\\n",
       "count  180354.000000  180354.000000    180354.000000   180354.000000   \n",
       "mean       54.933448      46.757433        50.354065       48.029342   \n",
       "std        15.556645      21.226730        21.496289       21.592830   \n",
       "min         2.000000       1.000000         1.000000        2.000000   \n",
       "25%        45.000000      25.000000        29.000000       25.000000   \n",
       "50%        57.000000      50.000000        56.000000       53.000000   \n",
       "75%        67.000000      66.000000        69.000000       67.000000   \n",
       "max        96.000000      94.000000        95.000000       95.000000   \n",
       "\n",
       "           gk_diving    gk_handling     gk_kicking  gk_positioning  \\\n",
       "count  180354.000000  180354.000000  180354.000000   180354.000000   \n",
       "mean       14.696685      15.947786      20.526304       16.015043   \n",
       "std        16.841454      15.841297      21.143898       16.070772   \n",
       "min         1.000000       1.000000       1.000000        1.000000   \n",
       "25%         7.000000       8.000000       8.000000        8.000000   \n",
       "50%        10.000000      11.000000      12.000000       11.000000   \n",
       "75%        13.000000      15.000000      15.000000       15.000000   \n",
       "max        94.000000      93.000000      97.000000       96.000000   \n",
       "\n",
       "        gk_reflexes  \n",
       "count  180354.00000  \n",
       "mean       16.32531  \n",
       "std        17.18545  \n",
       "min         1.00000  \n",
       "25%         8.00000  \n",
       "50%        11.00000  \n",
       "75%        15.00000  \n",
       "max        96.00000  \n",
       "\n",
       "[8 rows x 38 columns]"
      ]
     },
     "execution_count": 10,
     "metadata": {},
     "output_type": "execute_result"
    }
   ],
   "source": [
    "player_attr.describe()"
   ]
  },
  {
   "cell_type": "code",
   "execution_count": 11,
   "metadata": {},
   "outputs": [],
   "source": [
    "vectorized_players_df = player_attr.drop(columns=['id','player_fifa_api_id',\n",
    "                                               'player_api_id', 'date', \n",
    "                                               'preferred_foot', 'attacking_work_rate',\n",
    "                                               'defensive_work_rate', 'overall_rating',\n",
    "                                            'potential'])"
   ]
  },
  {
   "cell_type": "code",
   "execution_count": 12,
   "metadata": {},
   "outputs": [
    {
     "data": {
      "text/plain": [
       "(180354, 33)"
      ]
     },
     "execution_count": 12,
     "metadata": {},
     "output_type": "execute_result"
    }
   ],
   "source": [
    "vectorized_players_df.shape"
   ]
  },
  {
   "cell_type": "code",
   "execution_count": 13,
   "metadata": {},
   "outputs": [
    {
     "name": "stdout",
     "output_type": "stream",
     "text": [
      "            crossing      finishing  heading_accuracy  short_passing  \\\n",
      "count  180354.000000  180354.000000     180354.000000  180354.000000   \n",
      "mean       55.142071      49.962136         57.263476      62.486726   \n",
      "std        17.247231      19.041760         16.478716      14.172493   \n",
      "min         1.000000       1.000000          1.000000       3.000000   \n",
      "25%        45.000000      34.000000         49.000000      57.000000   \n",
      "50%        59.000000      53.000000         60.000000      65.000000   \n",
      "75%        68.000000      65.000000         68.000000      72.000000   \n",
      "max        95.000000      97.000000         98.000000      97.000000   \n",
      "\n",
      "             volleys      dribbling          curve  free_kick_accuracy  \\\n",
      "count  180354.000000  180354.000000  180354.000000       180354.000000   \n",
      "mean       49.488927      59.265755      53.001408           49.392783   \n",
      "std        18.252319      17.741351      18.245476           17.820262   \n",
      "min         1.000000       1.000000       2.000000            1.000000   \n",
      "25%        35.000000      52.000000      41.000000           36.000000   \n",
      "50%        52.000000      64.000000      56.000000           50.000000   \n",
      "75%        64.000000      72.000000      67.000000           63.000000   \n",
      "max        93.000000      97.000000      94.000000           97.000000   \n",
      "\n",
      "        long_passing   ball_control      ...              vision  \\\n",
      "count  180354.000000  180354.000000      ...       180354.000000   \n",
      "mean       57.084578      63.453846      ...           57.868176   \n",
      "std        14.412035      15.187692      ...           15.152408   \n",
      "min         3.000000       5.000000      ...            1.000000   \n",
      "25%        49.000000      59.000000      ...           49.000000   \n",
      "50%        59.000000      67.000000      ...           60.000000   \n",
      "75%        67.000000      73.000000      ...           69.000000   \n",
      "max        97.000000      97.000000      ...           97.000000   \n",
      "\n",
      "           penalties        marking  standing_tackle  sliding_tackle  \\\n",
      "count  180354.000000  180354.000000    180354.000000   180354.000000   \n",
      "mean       54.933448      46.757433        50.354065       48.029342   \n",
      "std        15.556645      21.226730        21.496289       21.592830   \n",
      "min         2.000000       1.000000         1.000000        2.000000   \n",
      "25%        45.000000      25.000000        29.000000       25.000000   \n",
      "50%        57.000000      50.000000        56.000000       53.000000   \n",
      "75%        67.000000      66.000000        69.000000       67.000000   \n",
      "max        96.000000      94.000000        95.000000       95.000000   \n",
      "\n",
      "           gk_diving    gk_handling     gk_kicking  gk_positioning  \\\n",
      "count  180354.000000  180354.000000  180354.000000   180354.000000   \n",
      "mean       14.696685      15.947786      20.526304       16.015043   \n",
      "std        16.841454      15.841297      21.143898       16.070772   \n",
      "min         1.000000       1.000000       1.000000        1.000000   \n",
      "25%         7.000000       8.000000       8.000000        8.000000   \n",
      "50%        10.000000      11.000000      12.000000       11.000000   \n",
      "75%        13.000000      15.000000      15.000000       15.000000   \n",
      "max        94.000000      93.000000      97.000000       96.000000   \n",
      "\n",
      "        gk_reflexes  \n",
      "count  180354.00000  \n",
      "mean       16.32531  \n",
      "std        17.18545  \n",
      "min         1.00000  \n",
      "25%         8.00000  \n",
      "50%        11.00000  \n",
      "75%        15.00000  \n",
      "max        96.00000  \n",
      "\n",
      "[8 rows x 33 columns]\n"
     ]
    }
   ],
   "source": [
    "print(vectorized_players_df.describe())"
   ]
  },
  {
   "cell_type": "code",
   "execution_count": 14,
   "metadata": {},
   "outputs": [
    {
     "name": "stdout",
     "output_type": "stream",
     "text": [
      "<class 'pandas.core.frame.DataFrame'>\n",
      "Int64Index: 180354 entries, 0 to 183977\n",
      "Data columns (total 33 columns):\n",
      "crossing              180354 non-null float64\n",
      "finishing             180354 non-null float64\n",
      "heading_accuracy      180354 non-null float64\n",
      "short_passing         180354 non-null float64\n",
      "volleys               180354 non-null float64\n",
      "dribbling             180354 non-null float64\n",
      "curve                 180354 non-null float64\n",
      "free_kick_accuracy    180354 non-null float64\n",
      "long_passing          180354 non-null float64\n",
      "ball_control          180354 non-null float64\n",
      "acceleration          180354 non-null float64\n",
      "sprint_speed          180354 non-null float64\n",
      "agility               180354 non-null float64\n",
      "reactions             180354 non-null float64\n",
      "balance               180354 non-null float64\n",
      "shot_power            180354 non-null float64\n",
      "jumping               180354 non-null float64\n",
      "stamina               180354 non-null float64\n",
      "strength              180354 non-null float64\n",
      "long_shots            180354 non-null float64\n",
      "aggression            180354 non-null float64\n",
      "interceptions         180354 non-null float64\n",
      "positioning           180354 non-null float64\n",
      "vision                180354 non-null float64\n",
      "penalties             180354 non-null float64\n",
      "marking               180354 non-null float64\n",
      "standing_tackle       180354 non-null float64\n",
      "sliding_tackle        180354 non-null float64\n",
      "gk_diving             180354 non-null float64\n",
      "gk_handling           180354 non-null float64\n",
      "gk_kicking            180354 non-null float64\n",
      "gk_positioning        180354 non-null float64\n",
      "gk_reflexes           180354 non-null float64\n",
      "dtypes: float64(33)\n",
      "memory usage: 46.8 MB\n"
     ]
    }
   ],
   "source": [
    "description = vectorized_players_df.describe()\n",
    "vectorized_players_df.info()"
   ]
  },
  {
   "cell_type": "code",
   "execution_count": 15,
   "metadata": {},
   "outputs": [
    {
     "data": {
      "text/html": [
       "<div>\n",
       "<style scoped>\n",
       "    .dataframe tbody tr th:only-of-type {\n",
       "        vertical-align: middle;\n",
       "    }\n",
       "\n",
       "    .dataframe tbody tr th {\n",
       "        vertical-align: top;\n",
       "    }\n",
       "\n",
       "    .dataframe thead th {\n",
       "        text-align: right;\n",
       "    }\n",
       "</style>\n",
       "<table border=\"1\" class=\"dataframe\">\n",
       "  <thead>\n",
       "    <tr style=\"text-align: right;\">\n",
       "      <th></th>\n",
       "      <th>crossing</th>\n",
       "      <th>finishing</th>\n",
       "      <th>heading_accuracy</th>\n",
       "      <th>short_passing</th>\n",
       "      <th>volleys</th>\n",
       "      <th>dribbling</th>\n",
       "      <th>curve</th>\n",
       "      <th>free_kick_accuracy</th>\n",
       "      <th>long_passing</th>\n",
       "      <th>ball_control</th>\n",
       "      <th>...</th>\n",
       "      <th>vision</th>\n",
       "      <th>penalties</th>\n",
       "      <th>marking</th>\n",
       "      <th>standing_tackle</th>\n",
       "      <th>sliding_tackle</th>\n",
       "      <th>gk_diving</th>\n",
       "      <th>gk_handling</th>\n",
       "      <th>gk_kicking</th>\n",
       "      <th>gk_positioning</th>\n",
       "      <th>gk_reflexes</th>\n",
       "    </tr>\n",
       "  </thead>\n",
       "  <tbody>\n",
       "    <tr>\n",
       "      <th>0</th>\n",
       "      <td>49.0</td>\n",
       "      <td>44.0</td>\n",
       "      <td>71.0</td>\n",
       "      <td>61.0</td>\n",
       "      <td>44.0</td>\n",
       "      <td>51.0</td>\n",
       "      <td>45.0</td>\n",
       "      <td>39.0</td>\n",
       "      <td>64.0</td>\n",
       "      <td>49.0</td>\n",
       "      <td>...</td>\n",
       "      <td>54.0</td>\n",
       "      <td>48.0</td>\n",
       "      <td>65.0</td>\n",
       "      <td>69.0</td>\n",
       "      <td>69.0</td>\n",
       "      <td>6.0</td>\n",
       "      <td>11.0</td>\n",
       "      <td>10.0</td>\n",
       "      <td>8.0</td>\n",
       "      <td>8.0</td>\n",
       "    </tr>\n",
       "    <tr>\n",
       "      <th>1</th>\n",
       "      <td>49.0</td>\n",
       "      <td>44.0</td>\n",
       "      <td>71.0</td>\n",
       "      <td>61.0</td>\n",
       "      <td>44.0</td>\n",
       "      <td>51.0</td>\n",
       "      <td>45.0</td>\n",
       "      <td>39.0</td>\n",
       "      <td>64.0</td>\n",
       "      <td>49.0</td>\n",
       "      <td>...</td>\n",
       "      <td>54.0</td>\n",
       "      <td>48.0</td>\n",
       "      <td>65.0</td>\n",
       "      <td>69.0</td>\n",
       "      <td>69.0</td>\n",
       "      <td>6.0</td>\n",
       "      <td>11.0</td>\n",
       "      <td>10.0</td>\n",
       "      <td>8.0</td>\n",
       "      <td>8.0</td>\n",
       "    </tr>\n",
       "    <tr>\n",
       "      <th>2</th>\n",
       "      <td>49.0</td>\n",
       "      <td>44.0</td>\n",
       "      <td>71.0</td>\n",
       "      <td>61.0</td>\n",
       "      <td>44.0</td>\n",
       "      <td>51.0</td>\n",
       "      <td>45.0</td>\n",
       "      <td>39.0</td>\n",
       "      <td>64.0</td>\n",
       "      <td>49.0</td>\n",
       "      <td>...</td>\n",
       "      <td>54.0</td>\n",
       "      <td>48.0</td>\n",
       "      <td>65.0</td>\n",
       "      <td>66.0</td>\n",
       "      <td>69.0</td>\n",
       "      <td>6.0</td>\n",
       "      <td>11.0</td>\n",
       "      <td>10.0</td>\n",
       "      <td>8.0</td>\n",
       "      <td>8.0</td>\n",
       "    </tr>\n",
       "    <tr>\n",
       "      <th>3</th>\n",
       "      <td>48.0</td>\n",
       "      <td>43.0</td>\n",
       "      <td>70.0</td>\n",
       "      <td>60.0</td>\n",
       "      <td>43.0</td>\n",
       "      <td>50.0</td>\n",
       "      <td>44.0</td>\n",
       "      <td>38.0</td>\n",
       "      <td>63.0</td>\n",
       "      <td>48.0</td>\n",
       "      <td>...</td>\n",
       "      <td>53.0</td>\n",
       "      <td>47.0</td>\n",
       "      <td>62.0</td>\n",
       "      <td>63.0</td>\n",
       "      <td>66.0</td>\n",
       "      <td>5.0</td>\n",
       "      <td>10.0</td>\n",
       "      <td>9.0</td>\n",
       "      <td>7.0</td>\n",
       "      <td>7.0</td>\n",
       "    </tr>\n",
       "    <tr>\n",
       "      <th>4</th>\n",
       "      <td>48.0</td>\n",
       "      <td>43.0</td>\n",
       "      <td>70.0</td>\n",
       "      <td>60.0</td>\n",
       "      <td>43.0</td>\n",
       "      <td>50.0</td>\n",
       "      <td>44.0</td>\n",
       "      <td>38.0</td>\n",
       "      <td>63.0</td>\n",
       "      <td>48.0</td>\n",
       "      <td>...</td>\n",
       "      <td>53.0</td>\n",
       "      <td>47.0</td>\n",
       "      <td>62.0</td>\n",
       "      <td>63.0</td>\n",
       "      <td>66.0</td>\n",
       "      <td>5.0</td>\n",
       "      <td>10.0</td>\n",
       "      <td>9.0</td>\n",
       "      <td>7.0</td>\n",
       "      <td>7.0</td>\n",
       "    </tr>\n",
       "  </tbody>\n",
       "</table>\n",
       "<p>5 rows × 33 columns</p>\n",
       "</div>"
      ],
      "text/plain": [
       "   crossing  finishing  heading_accuracy  short_passing  volleys  dribbling  \\\n",
       "0      49.0       44.0              71.0           61.0     44.0       51.0   \n",
       "1      49.0       44.0              71.0           61.0     44.0       51.0   \n",
       "2      49.0       44.0              71.0           61.0     44.0       51.0   \n",
       "3      48.0       43.0              70.0           60.0     43.0       50.0   \n",
       "4      48.0       43.0              70.0           60.0     43.0       50.0   \n",
       "\n",
       "   curve  free_kick_accuracy  long_passing  ball_control     ...       vision  \\\n",
       "0   45.0                39.0          64.0          49.0     ...         54.0   \n",
       "1   45.0                39.0          64.0          49.0     ...         54.0   \n",
       "2   45.0                39.0          64.0          49.0     ...         54.0   \n",
       "3   44.0                38.0          63.0          48.0     ...         53.0   \n",
       "4   44.0                38.0          63.0          48.0     ...         53.0   \n",
       "\n",
       "   penalties  marking  standing_tackle  sliding_tackle  gk_diving  \\\n",
       "0       48.0     65.0             69.0            69.0        6.0   \n",
       "1       48.0     65.0             69.0            69.0        6.0   \n",
       "2       48.0     65.0             66.0            69.0        6.0   \n",
       "3       47.0     62.0             63.0            66.0        5.0   \n",
       "4       47.0     62.0             63.0            66.0        5.0   \n",
       "\n",
       "   gk_handling  gk_kicking  gk_positioning  gk_reflexes  \n",
       "0         11.0        10.0             8.0          8.0  \n",
       "1         11.0        10.0             8.0          8.0  \n",
       "2         11.0        10.0             8.0          8.0  \n",
       "3         10.0         9.0             7.0          7.0  \n",
       "4         10.0         9.0             7.0          7.0  \n",
       "\n",
       "[5 rows x 33 columns]"
      ]
     },
     "execution_count": 15,
     "metadata": {},
     "output_type": "execute_result"
    }
   ],
   "source": [
    "vectorized_players_df.head()"
   ]
  },
  {
   "cell_type": "code",
   "execution_count": 16,
   "metadata": {},
   "outputs": [],
   "source": [
    "vectorized_players = vectorized_players_df.values"
   ]
  },
  {
   "cell_type": "code",
   "execution_count": 17,
   "metadata": {},
   "outputs": [
    {
     "data": {
      "text/plain": [
       "(33,)"
      ]
     },
     "execution_count": 17,
     "metadata": {},
     "output_type": "execute_result"
    }
   ],
   "source": [
    "ranking_wgt_vector = np.array([\n",
    "    -3,-3,-3,-1,-1, # Crossing, Finishing, Heading, Short Pass, Volleys\n",
    "    0.1,0,0,0,0.1, # Dribbling, Curve, FK, Long Passing, Ball Control\n",
    "    -0.3,0,0,0,0, # Acceleration, Sprint Speed, Agility, Reactions, Balance\n",
    "    0,-0.1,0.5,0,0.3, # Shot Power, Jumping, Stamina, Strength, Long Shots\n",
    "    -0.5,0.5,0.5,0,-0.1, # Aggression, Intereptions, Position, Vision, Penalties\n",
    "    2,2,2, # Marking, Standing Tackle, Sliding Tackle\n",
    "    5,5,5,5,5, # GK Diving, Handling, Kicking, Positioning, Reflexes\n",
    "])\n",
    "ranking_wgt_vector.shape"
   ]
  },
  {
   "cell_type": "code",
   "execution_count": 18,
   "metadata": {},
   "outputs": [],
   "source": [
    "def plot_clusters(clustered_data):\n",
    "    plt.scatter(np.sum(clustered_data, axis=1), [0]*len(clustered_data[:,-1]), c=clustered_data[:,-1])\n",
    "    plt.show()"
   ]
  },
  {
   "cell_type": "code",
   "execution_count": 19,
   "metadata": {},
   "outputs": [
    {
     "name": "stdout",
     "output_type": "stream",
     "text": [
      "(180354, 33)\n"
     ]
    }
   ],
   "source": [
    "temp = np.dot(vectorized_players, np.diag(ranking_wgt_vector))\n",
    "print(temp.shape)"
   ]
  },
  {
   "cell_type": "markdown",
   "metadata": {},
   "source": [
    "# Gonzales Clustering"
   ]
  },
  {
   "cell_type": "code",
   "execution_count": null,
   "metadata": {},
   "outputs": [],
   "source": [
    "\n",
    "clusters, three_cen_cost, three_mean_cost, centers = Gonzales(temp, temp[0,:], k=3)"
   ]
  },
  {
   "cell_type": "code",
   "execution_count": null,
   "metadata": {},
   "outputs": [],
   "source": [
    "clusters.shape"
   ]
  },
  {
   "cell_type": "code",
   "execution_count": null,
   "metadata": {},
   "outputs": [],
   "source": [
    "centers"
   ]
  },
  {
   "cell_type": "code",
   "execution_count": null,
   "metadata": {},
   "outputs": [],
   "source": [
    "plot_clusters(clusters)"
   ]
  },
  {
   "cell_type": "markdown",
   "metadata": {},
   "source": [
    "# KMeans++"
   ]
  },
  {
   "cell_type": "code",
   "execution_count": null,
   "metadata": {},
   "outputs": [],
   "source": [
    "def dist(a,b):\n",
    "    return np.linalg.norm(a-b)\n",
    "\n",
    "def KPP(data, c1, k=3):\n",
    "    n = len(data)\n",
    "    \n",
    "    assignments = dict([(_, 0) for _ in range(n)])\n",
    "    clusters = np.empty([k,len(c1)])\n",
    "    clusters[0, :] = c1\n",
    "    \n",
    "    for i in range(1,k):\n",
    "        weights = np.array([dist(d, clusters[assignments[idx], :])**2 for idx,d in enumerate(data)])\n",
    "        weights = weights/sum(weights)\n",
    "        centerIdx = np.random.choice(list(range(n)), p=weights)\n",
    "        clusters[i,:] = data[centerIdx,:]\n",
    "        for j in range(n):\n",
    "            if dist(data[j,:], clusters[assignments[j], :]) > dist(data[j,:], clusters[i,:]):\n",
    "                assignments[j] = i\n",
    "    arr = [dist(d, clusters[assignments[idx],:]) for idx,d in enumerate(data)]\n",
    "    max3cenCost = max(arr)\n",
    "    mean3Cost = sqrt(sum([x**2 for x in arr])/len(arr))\n",
    "   \n",
    "    data = np.append(data, np.array([[i] for i in list(assignments.values())]), axis=1)\n",
    "    return data, max3cenCost, mean3Cost, clusters"
   ]
  },
  {
   "cell_type": "code",
   "execution_count": null,
   "metadata": {},
   "outputs": [],
   "source": [
    "kmpp_clusters, kmpp_three_cen_cost, kmpp_three_mean_cost, kmm_centers = KPP(temp, temp[0,:], k=3)"
   ]
  },
  {
   "cell_type": "code",
   "execution_count": null,
   "metadata": {},
   "outputs": [],
   "source": [
    "plot_clusters(kmpp_clusters)"
   ]
  },
  {
   "cell_type": "markdown",
   "metadata": {},
   "source": [
    "# Lloyds"
   ]
  },
  {
   "cell_type": "code",
   "execution_count": null,
   "metadata": {},
   "outputs": [],
   "source": [
    "def Lloyds(data, init_centers, k=3, r=10):\n",
    "    n = len(data)\n",
    "    centers = np.copy(init_centers)\n",
    "    assignments = defaultdict(list)\n",
    "    for _ in range(r):\n",
    "        old = np.copy(centers)\n",
    "        clusterIdx = defaultdict(list)\n",
    "        for i in range(n):\n",
    "            d = data[i,:]\n",
    "            minDist = np.argmin(np.apply_along_axis(dist, 1, centers, d))\n",
    "            clusterIdx[minDist].append(i)\n",
    "            assignments[i] = minDist\n",
    "        for i in range(k):\n",
    "            idxs = clusterIdx[i]\n",
    "            subset = data[idxs, :]\n",
    "            centers[i,:] = np.average(subset, axis=0)\n",
    "        if np.allclose(old, centers):\n",
    "            break\n",
    "            \n",
    "    arr = [dist(d, centers[assignments[idx],:]) for idx,d in enumerate(data)]\n",
    "    max3cenCost = max(arr)\n",
    "    mean3Cost = sqrt(sum([x**2 for x in arr])/len(data))\n",
    "    data = np.append(data, np.array([[i] for i in list(assignments.values())]), axis=1)\n",
    "   \n",
    "    return data, max3cenCost, mean3Cost, centers"
   ]
  },
  {
   "cell_type": "markdown",
   "metadata": {},
   "source": [
    "## Lloyds with KMeans++ centers"
   ]
  },
  {
   "cell_type": "code",
   "execution_count": null,
   "metadata": {},
   "outputs": [],
   "source": [
    "ll_clusters, ll_max3cenCost, ll_mean3Cost, ll_centers = Lloyds(temp, kmm_centers, k=3)"
   ]
  },
  {
   "cell_type": "code",
   "execution_count": null,
   "metadata": {},
   "outputs": [],
   "source": [
    "plot_clusters(ll_clusters)"
   ]
  },
  {
   "cell_type": "markdown",
   "metadata": {},
   "source": [
    "## Lloyds with Gonzales centers"
   ]
  },
  {
   "cell_type": "code",
   "execution_count": null,
   "metadata": {},
   "outputs": [],
   "source": [
    "ll_g_clusters, ll_g_max3cenCost, ll_g_mean3Cost, ll_g_centers = Lloyds(temp,  centers, k=3)"
   ]
  },
  {
   "cell_type": "code",
   "execution_count": null,
   "metadata": {},
   "outputs": [],
   "source": [
    "plot_clusters(ll_g_clusters)"
   ]
  },
  {
   "cell_type": "code",
   "execution_count": 21,
   "metadata": {},
   "outputs": [
    {
     "name": "stdout",
     "output_type": "stream",
     "text": [
      "\n",
      "Labels [2 2 2 ... 0 0 0]\n",
      "\n",
      "Centers [[60.91855316 65.93117462 58.04218876 66.3179071  62.76241957 70.35555006\n",
      "  62.81694324 57.47212598 57.22959596 70.85301013 74.02847318 73.70169589\n",
      "  72.94412171 67.15816552 69.38872535 69.61347592 65.16133066 67.17808112\n",
      "  63.54793289 64.08479433 54.98017558 40.0819939  67.38582072 64.6141923\n",
      "  63.69976815 30.75091828 35.0576888  32.14563524  9.8443223  11.58385651\n",
      "  16.25270274 11.45264022 11.43476958]\n",
      " [18.74694101 18.16351083 19.17677216 28.04614123 17.3226468  18.87340215\n",
      "  17.66689452 18.43694032 33.4427507  24.16672363 45.73094538 46.08660879\n",
      "  48.31710985 62.80046483 47.6197963  28.70729373 64.98024472 41.41882562\n",
      "  63.75596418 18.44569007 36.23890902 26.57303985 20.74673594 31.24594983\n",
      "  29.2591428  18.46072869 18.96144644 18.05181489 69.73121881 66.24499282\n",
      "  64.09570032 67.04545765 71.32421902]\n",
      " [56.14195456 41.40883183 62.85515621 64.84416139 43.32262706 56.33708446\n",
      "  50.34073816 47.51050578 60.847579   63.528808   65.86999584 66.88880395\n",
      "  62.90467786 65.82726445 64.45584648 60.63340491 68.87317737 71.16168452\n",
      "  71.38988882 49.90131646 70.1589302  66.26015447 51.42468325 56.42398624\n",
      "  51.589628   65.22643928 68.71930613 66.66878394  9.83372868 11.44236715\n",
      "  17.04938674 11.56034221 11.50116356]]\n",
      "\n",
      "[0.46587803 0.22146016 0.07116773 0.04367314 0.03060393 0.02017869\n",
      " 0.01270671 0.01258345 0.01105394 0.00975794 0.00941873 0.00883493\n",
      " 0.00765814 0.00734038 0.00682048 0.00596432 0.00565982 0.00539422\n",
      " 0.00508958 0.00482504 0.00460142 0.00431557 0.00386865 0.00382231\n",
      " 0.0035687  0.00291611 0.00231666 0.00197657 0.00154363 0.00152727\n",
      " 0.00149386 0.00102117 0.00095871]\n"
     ]
    },
    {
     "data": {
      "image/png": "[encoded data removed]",
      "text/plain": [
       "<Figure size 432x288 with 1 Axes>"
      ]
     },
     "metadata": {
      "needs_background": "light"
     },
     "output_type": "display_data"
    }
   ],
   "source": [
    "kmeans = KMeans(n_clusters=3).fit(vectorized_players)\n",
    "\n",
    "pca = PCA()\n",
    "\n",
    "pca_dataset = pca.fit_transform(vectorized_players)\n",
    "\n",
    "cdict = mpl.colors.ListedColormap(['red', 'green', 'blue', 'gray'])\n",
    "\n",
    "\n",
    "print()\n",
    "print(\"Labels\", kmeans.labels_)\n",
    "print()\n",
    "print(\"Centers\", kmeans.cluster_centers_)\n",
    "print()\n",
    "print(pca.explained_variance_ratio_)\n",
    "plt.plot(range(len(vectorized_players[0])), pca.explained_variance_ratio_, '-o')\n",
    "plt.show()"
   ]
  },
  {
   "cell_type": "code",
   "execution_count": null,
   "metadata": {},
   "outputs": [],
   "source": []
  },
  {
   "cell_type": "code",
   "execution_count": 52,
   "metadata": {},
   "outputs": [
    {
     "name": "stdout",
     "output_type": "stream",
     "text": [
      "35627\n",
      "-1\n",
      "35629\n"
     ]
    },
    {
     "data": {
      "image/png": "[encoded data removed]",
      "text/plain": [
       "<Figure size 432x288 with 1 Axes>"
      ]
     },
     "metadata": {
      "needs_background": "light"
     },
     "output_type": "display_data"
    }
   ],
   "source": [
    "db = DBSCAN(eps=2, min_samples=2).fit_predict(vectorized_players)\n",
    "\n",
    "print(max(db))\n",
    "print(min(db))\n",
    "print(len(set(db)))\n",
    "\n",
    "plt.scatter(pca_dataset[:,0], pca_dataset[:,1], c=db)\n",
    "plt.show()"
   ]
  },
  {
   "cell_type": "code",
   "execution_count": null,
   "metadata": {},
   "outputs": [],
   "source": []
  },
  {
   "cell_type": "code",
   "execution_count": null,
   "metadata": {},
   "outputs": [],
   "source": []
  },
  {
   "cell_type": "code",
   "execution_count": null,
   "metadata": {},
   "outputs": [],
   "source": []
  },
  {
   "cell_type": "code",
   "execution_count": null,
   "metadata": {},
   "outputs": [],
   "source": []
  },
  {
   "cell_type": "code",
   "execution_count": null,
   "metadata": {},
   "outputs": [],
   "source": []
  },
  {
   "cell_type": "code",
   "execution_count": null,
   "metadata": {},
   "outputs": [],
   "source": []
  },
  {
   "cell_type": "code",
   "execution_count": null,
   "metadata": {},
   "outputs": [],
   "source": []
  },
  {
   "cell_type": "code",
   "execution_count": null,
   "metadata": {},
   "outputs": [],
   "source": []
  },
  {
   "cell_type": "code",
   "execution_count": null,
   "metadata": {},
   "outputs": [],
   "source": []
  },
  {
   "cell_type": "code",
   "execution_count": null,
   "metadata": {},
   "outputs": [],
   "source": []
  },
  {
   "cell_type": "code",
   "execution_count": null,
   "metadata": {},
   "outputs": [],
   "source": []
  },
  {
   "cell_type": "code",
   "execution_count": null,
   "metadata": {},
   "outputs": [],
   "source": []
  },
  {
   "cell_type": "code",
   "execution_count": null,
   "metadata": {},
   "outputs": [],
   "source": []
  },
  {
   "cell_type": "code",
   "execution_count": null,
   "metadata": {},
   "outputs": [],
   "source": []
  },
  {
   "cell_type": "code",
   "execution_count": null,
   "metadata": {},
   "outputs": [],
   "source": []
  }
 ],
 "metadata": {
  "kernelspec": {
   "display_name": "Python 3",
   "language": "python",
   "name": "python3"
  },
  "language_info": {
   "codemirror_mode": {
    "name": "ipython",
    "version": 3
   },
   "file_extension": ".py",
   "mimetype": "text/x-python",
   "name": "python",
   "nbconvert_exporter": "python",
   "pygments_lexer": "ipython3",
   "version": "3.7.1"
  }
 },
 "nbformat": 4,
 "nbformat_minor": 2
}
