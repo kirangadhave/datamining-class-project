{
 "cells": [
  {
   "cell_type": "code",
   "execution_count": 1,
   "metadata": {},
   "outputs": [],
   "source": [
    "import numpy as np\n",
    "import pandas as pd\n",
    "import matplotlib.pyplot as plt\n",
    "from sklearn import linear_model\n",
    "import os"
   ]
  },
  {
   "cell_type": "markdown",
   "metadata": {},
   "source": [
    "## Import Player Attributes"
   ]
  },
  {
   "cell_type": "code",
   "execution_count": 2,
   "metadata": {},
   "outputs": [
    {
     "name": "stdout",
     "output_type": "stream",
     "text": [
      "<class 'pandas.core.frame.DataFrame'>\n",
      "Int64Index: 180354 entries, 0 to 183977\n",
      "Data columns (total 42 columns):\n",
      "id                     180354 non-null int64\n",
      "player_fifa_api_id     180354 non-null int64\n",
      "player_api_id          180354 non-null int64\n",
      "date                   180354 non-null object\n",
      "overall_rating         180354 non-null float64\n",
      "potential              180354 non-null float64\n",
      "preferred_foot         180354 non-null object\n",
      "attacking_work_rate    180354 non-null object\n",
      "defensive_work_rate    180354 non-null object\n",
      "crossing               180354 non-null float64\n",
      "finishing              180354 non-null float64\n",
      "heading_accuracy       180354 non-null float64\n",
      "short_passing          180354 non-null float64\n",
      "volleys                180354 non-null float64\n",
      "dribbling              180354 non-null float64\n",
      "curve                  180354 non-null float64\n",
      "free_kick_accuracy     180354 non-null float64\n",
      "long_passing           180354 non-null float64\n",
      "ball_control           180354 non-null float64\n",
      "acceleration           180354 non-null float64\n",
      "sprint_speed           180354 non-null float64\n",
      "agility                180354 non-null float64\n",
      "reactions              180354 non-null float64\n",
      "balance                180354 non-null float64\n",
      "shot_power             180354 non-null float64\n",
      "jumping                180354 non-null float64\n",
      "stamina                180354 non-null float64\n",
      "strength               180354 non-null float64\n",
      "long_shots             180354 non-null float64\n",
      "aggression             180354 non-null float64\n",
      "interceptions          180354 non-null float64\n",
      "positioning            180354 non-null float64\n",
      "vision                 180354 non-null float64\n",
      "penalties              180354 non-null float64\n",
      "marking                180354 non-null float64\n",
      "standing_tackle        180354 non-null float64\n",
      "sliding_tackle         180354 non-null float64\n",
      "gk_diving              180354 non-null float64\n",
      "gk_handling            180354 non-null float64\n",
      "gk_kicking             180354 non-null float64\n",
      "gk_positioning         180354 non-null float64\n",
      "gk_reflexes            180354 non-null float64\n",
      "dtypes: float64(35), int64(3), object(4)\n",
      "memory usage: 59.2+ MB\n"
     ]
    }
   ],
   "source": [
    "f_path = os.getcwd() + '/Data/Player_Attributes.csv'\n",
    "attributes = pd.read_csv(f_path).dropna()\n",
    "attributes.info()"
   ]
  },
  {
   "cell_type": "code",
   "execution_count": 5,
   "metadata": {},
   "outputs": [
    {
     "name": "stdout",
     "output_type": "stream",
     "text": [
      "135265\n"
     ]
    }
   ],
   "source": [
    "# Adjust these parameters if you would like\n",
    "training_index = int(len(attributes)*0.75)\n",
    "print(training_index)\n",
    "\n",
    "# y is the overall rating, X are all the attributes above that are float64 (excluding potential)\n",
    "y = attributes['overall_rating'].values[:training_index]\n",
    "X = attributes.loc[:,'crossing':'gk_reflexes'].values[:training_index]\n",
    "new_X = attributes.loc[:,'crossing':'gk_reflexes'].values[training_index:]\n",
    "actual_y = attributes['overall_rating'].values[training_index:]"
   ]
  },
  {
   "cell_type": "markdown",
   "metadata": {},
   "source": [
    "## Least-Squares Regression"
   ]
  },
  {
   "cell_type": "code",
   "execution_count": 4,
   "metadata": {},
   "outputs": [
    {
     "name": "stdout",
     "output_type": "stream",
     "text": [
      "0.7812482776981529\n",
      "[-0.00816566  0.01639047  0.10126936  0.07126574 -0.00341365 -0.01252466\n",
      "  0.01336123  0.00871129  0.01916399  0.22763901  0.04465262  0.04491591\n",
      " -0.01451053  0.27949033  0.00305294  0.02408825  0.01397348 -0.01771719\n",
      "  0.06353337 -0.01892841  0.01216687  0.01695998 -0.02270239  0.00950808\n",
      "  0.01468832  0.03755739  0.01370631 -0.03313867  0.20111741  0.05608649\n",
      " -0.02868339  0.07958841  0.04417634]\n",
      "6.101419716919189\n"
     ]
    },
    {
     "name": "stderr",
     "output_type": "stream",
     "text": [
      "/Library/Frameworks/Python.framework/Versions/3.6/lib/python3.6/site-packages/sklearn/linear_model/base.py:485: RuntimeWarning: internal gelsd driver lwork query error, required iwork dimension not returned. This is likely the result of LAPACK bug 0038, fixed in LAPACK 3.2.2 (released July 21, 2010). Falling back to 'gelss' driver.\n",
      "  linalg.lstsq(X, y)\n"
     ]
    }
   ],
   "source": [
    "reg = linear_model.LinearRegression().fit(X,y)\n",
    "print(reg.score(X,y))\n",
    "print(reg.coef_)\n",
    "print(reg.intercept_)"
   ]
  },
  {
   "cell_type": "code",
   "execution_count": 7,
   "metadata": {},
   "outputs": [
    {
     "data": {
      "image/png": "[encoded data removed]",
      "text/plain": [
       "<Figure size 432x288 with 1 Axes>"
      ]
     },
     "metadata": {},
     "output_type": "display_data"
    }
   ],
   "source": [
    "reg_predictions = reg.predict(new_X)\n",
    "plt.plot(reg_predictions, actual_y, 'o')\n",
    "plt.show()"
   ]
  },
  {
   "cell_type": "markdown",
   "metadata": {},
   "source": [
    "## Ridge Regression"
   ]
  },
  {
   "cell_type": "code",
   "execution_count": 9,
   "metadata": {},
   "outputs": [
    {
     "name": "stdout",
     "output_type": "stream",
     "text": [
      "0.7812482727374767\n",
      "[-0.00816354  0.01638919  0.10126402  0.07128022 -0.00341034 -0.01249665\n",
      "  0.01336286  0.00871006  0.01916993  0.2275617   0.04464855  0.04491208\n",
      " -0.01450126  0.27946552  0.00304833  0.02409021  0.01397987 -0.01771368\n",
      "  0.06353856 -0.01892593  0.01217069  0.01696053 -0.02269728  0.00951257\n",
      "  0.01469152  0.03755042  0.01370572 -0.0331323   0.20106993  0.05609472\n",
      " -0.02868861  0.07958053  0.0442109 ]\n",
      "6.103383033023697\n"
     ]
    }
   ],
   "source": [
    "ridge = linear_model.Ridge(alpha=1000.0)\n",
    "ridge.fit(X,y)\n",
    "print(ridge.score(X,y))\n",
    "print(ridge.coef_)\n",
    "print(ridge.intercept_)"
   ]
  },
  {
   "cell_type": "code",
   "execution_count": 10,
   "metadata": {},
   "outputs": [
    {
     "data": {
      "image/png": "[encoded data removed]",
      "text/plain": [
       "<Figure size 432x288 with 1 Axes>"
      ]
     },
     "metadata": {},
     "output_type": "display_data"
    }
   ],
   "source": [
    "ridge_predictions = ridge.predict(new_X)\n",
    "plt.plot(ridge_predictions, actual_y, 'o')\n",
    "plt.show()"
   ]
  },
  {
   "cell_type": "markdown",
   "metadata": {},
   "source": [
    "## Lasso Regression"
   ]
  },
  {
   "cell_type": "code",
   "execution_count": 11,
   "metadata": {},
   "outputs": [
    {
     "name": "stdout",
     "output_type": "stream",
     "text": [
      "0.7752609003866033\n",
      "[-0.          0.          0.0945327   0.05789831  0.          0.\n",
      "  0.00216089  0.00221289  0.01912821  0.20256247  0.02543527  0.02752366\n",
      " -0.          0.29262461  0.          0.01727147  0.01017984 -0.\n",
      "  0.06275877 -0.          0.00776394  0.01112129 -0.0034744   0.\n",
      "  0.00933173  0.01551036  0.         -0.          0.21260004  0.03074647\n",
      " -0.00818058  0.05556479  0.02895971]\n",
      "9.594980737041844\n"
     ]
    }
   ],
   "source": [
    "lasso = linear_model.Lasso(alpha=1.0)\n",
    "lasso.fit(X,y)\n",
    "print(lasso.score(X,y))\n",
    "print(lasso.coef_)\n",
    "print(lasso.intercept_)"
   ]
  },
  {
   "cell_type": "code",
   "execution_count": 18,
   "metadata": {},
   "outputs": [
    {
     "data": {
      "image/png": "[encoded data removed]",
      "text/plain": [
       "<Figure size 432x288 with 1 Axes>"
      ]
     },
     "metadata": {},
     "output_type": "display_data"
    }
   ],
   "source": [
    "lasso_predictions = lasso.predict(new_X)\n",
    "plt.plot(lasso_predictions, actual_y, 'o')\n",
    "plt.xlabel('Estimated Overall')\n",
    "plt.ylabel('Actual Overall')\n",
    "plt.savefig('lasso_regression_test.png', transparent=True)"
   ]
  },
  {
   "cell_type": "code",
   "execution_count": 14,
   "metadata": {},
   "outputs": [
    {
     "data": {
      "text/plain": [
       "(135265, 33)"
      ]
     },
     "execution_count": 14,
     "metadata": {},
     "output_type": "execute_result"
    }
   ],
   "source": [
    "X.shape"
   ]
  }
 ],
 "metadata": {
  "kernelspec": {
   "display_name": "Python 3",
   "language": "python",
   "name": "python3"
  },
  "language_info": {
   "codemirror_mode": {
    "name": "ipython",
    "version": 3
   },
   "file_extension": ".py",
   "mimetype": "text/x-python",
   "name": "python",
   "nbconvert_exporter": "python",
   "pygments_lexer": "ipython3",
   "version": "3.6.5"
  }
 },
 "nbformat": 4,
 "nbformat_minor": 2
}
