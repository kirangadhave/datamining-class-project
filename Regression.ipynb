{
 "cells": [
  {
   "cell_type": "code",
   "execution_count": 2,
   "metadata": {},
   "outputs": [],
   "source": [
    "import numpy as np\n",
    "import pandas as pd\n",
    "import matplotlib.pyplot as plt\n",
    "from sklearn import linear_model\n",
    "import os"
   ]
  },
  {
   "cell_type": "markdown",
   "metadata": {},
   "source": [
    "## Import Player Attributes"
   ]
  },
  {
   "cell_type": "markdown",
   "metadata": {},
   "source": [
    "f_path = os.getcwd() + '/Data/Player_Attributes.csv'\n",
    "attributes = pd.read_csv(f_path).dropna()\n",
    "attributes.info()"
   ]
  },
  {
   "cell_type": "code",
   "execution_count": 16,
   "metadata": {},
   "outputs": [
    {
     "name": "stdout",
     "output_type": "stream",
     "text": [
      "135265\n"
     ]
    }
   ],
   "source": [
    "# Adjust these parameters if you would like\n",
    "training_index = int(len(attributes)*0.75)\n",
    "print(training_index)\n",
    "\n",
    "# y is the overall rating, X are all the attributes above that are float64 (excluding potential)\n",
    "y = attributes['overall_rating'].values[:training_index]\n",
    "X = attributes.loc[:,'crossing':'gk_reflexes'].values[:training_index]"
   ]
  },
  {
   "cell_type": "markdown",
   "metadata": {},
   "source": [
    "## Least-Squares Regression"
   ]
  },
  {
   "cell_type": "code",
   "execution_count": 17,
   "metadata": {},
   "outputs": [
    {
     "name": "stdout",
     "output_type": "stream",
     "text": [
      "0.7812482776981529\n",
      "[-0.00816566  0.01639047  0.10126936  0.07126574 -0.00341365 -0.01252466\n",
      "  0.01336123  0.00871129  0.01916399  0.22763901  0.04465262  0.04491591\n",
      " -0.01451053  0.27949033  0.00305294  0.02408825  0.01397348 -0.01771719\n",
      "  0.06353337 -0.01892841  0.01216687  0.01695998 -0.02270239  0.00950808\n",
      "  0.01468832  0.03755739  0.01370631 -0.03313867  0.20111741  0.05608649\n",
      " -0.02868339  0.07958841  0.04417634]\n",
      "6.10141971691916\n"
     ]
    },
    {
     "name": "stderr",
     "output_type": "stream",
     "text": [
      "/Library/Frameworks/Python.framework/Versions/3.6/lib/python3.6/site-packages/sklearn/linear_model/base.py:509: RuntimeWarning: internal gelsd driver lwork query error, required iwork dimension not returned. This is likely the result of LAPACK bug 0038, fixed in LAPACK 3.2.2 (released July 21, 2010). Falling back to 'gelss' driver.\n",
      "  linalg.lstsq(X, y)\n"
     ]
    }
   ],
   "source": [
    "reg = linear_model.LinearRegression().fit(X,y)\n",
    "print(reg.score(X,y))\n",
    "print(reg.coef_)\n",
    "print(reg.intercept_)"
   ]
  },
  {
   "cell_type": "markdown",
   "metadata": {},
   "source": [
    "## Ridge Regression"
   ]
  },
  {
   "cell_type": "code",
   "execution_count": 23,
   "metadata": {},
   "outputs": [
    {
     "name": "stdout",
     "output_type": "stream",
     "text": [
      "0.7812482776981479\n",
      "[-0.00816566  0.01639046  0.10126935  0.07126576 -0.00341365 -0.01252463\n",
      "  0.01336123  0.00871129  0.01916399  0.22763894  0.04465262  0.04491591\n",
      " -0.01451052  0.2794903   0.00305294  0.02408825  0.01397348 -0.01771719\n",
      "  0.06353337 -0.0189284   0.01216687  0.01695998 -0.02270238  0.00950809\n",
      "  0.01468832  0.03755738  0.01370631 -0.03313866  0.20111736  0.0560865\n",
      " -0.02868339  0.0795884   0.04417637]\n",
      "6.101421680366073\n"
     ]
    }
   ],
   "source": [
    "clf = linear_model.Ridge(alpha=1.0)\n",
    "clf.fit(X,y)\n",
    "print(clf.score(X,y))\n",
    "print(clf.coef_)\n",
    "print(clf.intercept_)"
   ]
  },
  {
   "cell_type": "markdown",
   "metadata": {},
   "source": [
    "## Lasso Regression"
   ]
  },
  {
   "cell_type": "code",
   "execution_count": 24,
   "metadata": {},
   "outputs": [
    {
     "name": "stdout",
     "output_type": "stream",
     "text": [
      "0.7752609003866033\n",
      "[-0.          0.          0.0945327   0.05789831  0.          0.\n",
      "  0.00216089  0.00221289  0.01912821  0.20256247  0.02543527  0.02752366\n",
      " -0.          0.29262461  0.          0.01727147  0.01017984 -0.\n",
      "  0.06275877 -0.          0.00776394  0.01112129 -0.0034744   0.\n",
      "  0.00933173  0.01551036  0.         -0.          0.21260004  0.03074647\n",
      " -0.00818058  0.05556479  0.02895971]\n",
      "9.594980737041858\n"
     ]
    }
   ],
   "source": [
    "clf = linear_model.Lasso(alpha=1.0)\n",
    "clf.fit(X,y)\n",
    "print(clf.score(X,y))\n",
    "print(clf.coef_)\n",
    "print(clf.intercept_)"
   ]
  }
 ],
 "metadata": {
  "kernelspec": {
   "display_name": "Python 3",
   "language": "python",
   "name": "python3"
  },
  "language_info": {
   "codemirror_mode": {
    "name": "ipython",
    "version": 3
   },
   "file_extension": ".py",
   "mimetype": "text/x-python",
   "name": "python",
   "nbconvert_exporter": "python",
   "pygments_lexer": "ipython3",
   "version": "3.6.5"
  }
 },
 "nbformat": 4,
 "nbformat_minor": 2
}
