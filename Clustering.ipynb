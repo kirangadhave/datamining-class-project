{
 "cells": [
  {
   "cell_type": "code",
   "execution_count": 252,
   "metadata": {},
   "outputs": [],
   "source": [
    "import pandas as pd\n",
    "import numpy as np\n",
    "import seaborn as sns\n",
    "import matplotlib.pyplot as plt\n",
    "import os\n",
    "from Gonzales import Gonzales\n",
    "from math import sqrt\n",
    "from collections import defaultdict"
   ]
  },
  {
   "cell_type": "code",
   "execution_count": 3,
   "metadata": {},
   "outputs": [],
   "source": [
    "DATA_PATH = \"data\""
   ]
  },
  {
   "cell_type": "code",
   "execution_count": 4,
   "metadata": {},
   "outputs": [
    {
     "data": {
      "text/plain": [
       "['Team_Attributes.csv',\n",
       " 'Player.csv',\n",
       " 'Match.csv',\n",
       " 'League.csv',\n",
       " 'Country.csv',\n",
       " 'Player_Attributes.csv',\n",
       " 'Team.csv']"
      ]
     },
     "execution_count": 4,
     "metadata": {},
     "output_type": "execute_result"
    }
   ],
   "source": [
    "os.listdir(DATA_PATH)"
   ]
  },
  {
   "cell_type": "code",
   "execution_count": 6,
   "metadata": {},
   "outputs": [
    {
     "data": {
      "text/plain": [
       "(183978, 42)"
      ]
     },
     "execution_count": 6,
     "metadata": {},
     "output_type": "execute_result"
    }
   ],
   "source": [
    "player_attr_raw = pd.read_csv(os.path.join(DATA_PATH, 'Player_Attributes.csv'))\n",
    "player_attr_raw.shape"
   ]
  },
  {
   "cell_type": "code",
   "execution_count": 7,
   "metadata": {},
   "outputs": [
    {
     "data": {
      "text/plain": [
       "(180354, 42)"
      ]
     },
     "execution_count": 7,
     "metadata": {},
     "output_type": "execute_result"
    }
   ],
   "source": [
    "player_attr = player_attr_raw.dropna()\n",
    "player_attr.shape"
   ]
  },
  {
   "cell_type": "code",
   "execution_count": 8,
   "metadata": {},
   "outputs": [],
   "source": [
    "unique_foot = player_attr['preferred_foot'].unique()\n"
   ]
  },
  {
   "cell_type": "code",
   "execution_count": 9,
   "metadata": {},
   "outputs": [],
   "source": [
    "\n",
    "unqiue_off_rate = player_attr['attacking_work_rate'].unique()\n"
   ]
  },
  {
   "cell_type": "code",
   "execution_count": 10,
   "metadata": {},
   "outputs": [],
   "source": [
    "\n",
    "unqiue_def_rate = player_attr['defensive_work_rate'].unique()"
   ]
  },
  {
   "cell_type": "code",
   "execution_count": 11,
   "metadata": {},
   "outputs": [
    {
     "name": "stdout",
     "output_type": "stream",
     "text": [
      "<class 'pandas.core.frame.DataFrame'>\n",
      "Int64Index: 180354 entries, 0 to 183977\n",
      "Data columns (total 42 columns):\n",
      "id                     180354 non-null int64\n",
      "player_fifa_api_id     180354 non-null int64\n",
      "player_api_id          180354 non-null int64\n",
      "date                   180354 non-null object\n",
      "overall_rating         180354 non-null float64\n",
      "potential              180354 non-null float64\n",
      "preferred_foot         180354 non-null object\n",
      "attacking_work_rate    180354 non-null object\n",
      "defensive_work_rate    180354 non-null object\n",
      "crossing               180354 non-null float64\n",
      "finishing              180354 non-null float64\n",
      "heading_accuracy       180354 non-null float64\n",
      "short_passing          180354 non-null float64\n",
      "volleys                180354 non-null float64\n",
      "dribbling              180354 non-null float64\n",
      "curve                  180354 non-null float64\n",
      "free_kick_accuracy     180354 non-null float64\n",
      "long_passing           180354 non-null float64\n",
      "ball_control           180354 non-null float64\n",
      "acceleration           180354 non-null float64\n",
      "sprint_speed           180354 non-null float64\n",
      "agility                180354 non-null float64\n",
      "reactions              180354 non-null float64\n",
      "balance                180354 non-null float64\n",
      "shot_power             180354 non-null float64\n",
      "jumping                180354 non-null float64\n",
      "stamina                180354 non-null float64\n",
      "strength               180354 non-null float64\n",
      "long_shots             180354 non-null float64\n",
      "aggression             180354 non-null float64\n",
      "interceptions          180354 non-null float64\n",
      "positioning            180354 non-null float64\n",
      "vision                 180354 non-null float64\n",
      "penalties              180354 non-null float64\n",
      "marking                180354 non-null float64\n",
      "standing_tackle        180354 non-null float64\n",
      "sliding_tackle         180354 non-null float64\n",
      "gk_diving              180354 non-null float64\n",
      "gk_handling            180354 non-null float64\n",
      "gk_kicking             180354 non-null float64\n",
      "gk_positioning         180354 non-null float64\n",
      "gk_reflexes            180354 non-null float64\n",
      "dtypes: float64(35), int64(3), object(4)\n",
      "memory usage: 59.2+ MB\n"
     ]
    }
   ],
   "source": [
    "player_attr.info()"
   ]
  },
  {
   "cell_type": "code",
   "execution_count": 12,
   "metadata": {},
   "outputs": [],
   "source": [
    "vectorized_players_df = player_attr.drop(columns=['id','player_fifa_api_id',\n",
    "                                               'player_api_id', 'date', \n",
    "                                               'preferred_foot', 'attacking_work_rate',\n",
    "                                               'defensive_work_rate', 'overall_rating',\n",
    "                                            'potential'])"
   ]
  },
  {
   "cell_type": "code",
   "execution_count": 13,
   "metadata": {},
   "outputs": [
    {
     "data": {
      "text/plain": [
       "(180354, 33)"
      ]
     },
     "execution_count": 13,
     "metadata": {},
     "output_type": "execute_result"
    }
   ],
   "source": [
    "vectorized_players_df.shape"
   ]
  },
  {
   "cell_type": "code",
   "execution_count": 27,
   "metadata": {},
   "outputs": [
    {
     "name": "stdout",
     "output_type": "stream",
     "text": [
      "<class 'pandas.core.frame.DataFrame'>\n",
      "Int64Index: 180354 entries, 0 to 183977\n",
      "Data columns (total 33 columns):\n",
      "crossing              180354 non-null float64\n",
      "finishing             180354 non-null float64\n",
      "heading_accuracy      180354 non-null float64\n",
      "short_passing         180354 non-null float64\n",
      "volleys               180354 non-null float64\n",
      "dribbling             180354 non-null float64\n",
      "curve                 180354 non-null float64\n",
      "free_kick_accuracy    180354 non-null float64\n",
      "long_passing          180354 non-null float64\n",
      "ball_control          180354 non-null float64\n",
      "acceleration          180354 non-null float64\n",
      "sprint_speed          180354 non-null float64\n",
      "agility               180354 non-null float64\n",
      "reactions             180354 non-null float64\n",
      "balance               180354 non-null float64\n",
      "shot_power            180354 non-null float64\n",
      "jumping               180354 non-null float64\n",
      "stamina               180354 non-null float64\n",
      "strength              180354 non-null float64\n",
      "long_shots            180354 non-null float64\n",
      "aggression            180354 non-null float64\n",
      "interceptions         180354 non-null float64\n",
      "positioning           180354 non-null float64\n",
      "vision                180354 non-null float64\n",
      "penalties             180354 non-null float64\n",
      "marking               180354 non-null float64\n",
      "standing_tackle       180354 non-null float64\n",
      "sliding_tackle        180354 non-null float64\n",
      "gk_diving             180354 non-null float64\n",
      "gk_handling           180354 non-null float64\n",
      "gk_kicking            180354 non-null float64\n",
      "gk_positioning        180354 non-null float64\n",
      "gk_reflexes           180354 non-null float64\n",
      "dtypes: float64(33)\n",
      "memory usage: 46.8 MB\n"
     ]
    }
   ],
   "source": [
    "description = vectorized_players_df.describe()\n",
    "vectorized_players_df.info()"
   ]
  },
  {
   "cell_type": "code",
   "execution_count": 16,
   "metadata": {},
   "outputs": [],
   "source": [
    "vectorized_players = vectorized_players_df.values"
   ]
  },
  {
   "cell_type": "code",
   "execution_count": 212,
   "metadata": {},
   "outputs": [
    {
     "data": {
      "text/plain": [
       "(33,)"
      ]
     },
     "execution_count": 212,
     "metadata": {},
     "output_type": "execute_result"
    }
   ],
   "source": [
    "ranking_wgt_vector = np.array([\n",
    "    -3,-3,-3,-1,-1, # Crossing, Finishing, Heading, Short Pass, Volleys\n",
    "    0.1,0,0,0,0.1, # Dribbling, Curve, FK, Long Passing, Ball Control\n",
    "    -0.3,0,0,0,0, # Acceleration, Sprint Speed, Agility, Reactions, Balance\n",
    "    0,-0.1,0.5,0,0.3, # Shot Power, Jumping, Stamina, Strength, Long Shots\n",
    "    -0.5,0.5,0.5,0,-0.1, # Aggression, Intereptions, Position, Vision, Penalties\n",
    "    2,2,2, # Marking, Standing Tackle, Sliding Tackle\n",
    "    5,5,5,5,5, # GK Diving, Handling, Kicking, Positioning, Reflexes\n",
    "])\n",
    "ranking_wgt_vector.shape"
   ]
  },
  {
   "cell_type": "code",
   "execution_count": 227,
   "metadata": {},
   "outputs": [],
   "source": [
    "def plot_clusters(clustered_data):\n",
    "    plt.scatter(np.sum(clustered_data, axis=1), [0]*len(clustered_data[:,-1]), c=clustered_data[:,-1])\n",
    "    plt.show()"
   ]
  },
  {
   "cell_type": "code",
   "execution_count": 234,
   "metadata": {},
   "outputs": [
    {
     "name": "stdout",
     "output_type": "stream",
     "text": [
      "(180354, 33)\n"
     ]
    }
   ],
   "source": [
    "temp = np.dot(vectorized_players, np.diag(ranking_wgt_vector))\n",
    "print(temp.shape)"
   ]
  },
  {
   "cell_type": "markdown",
   "metadata": {},
   "source": [
    "# Gonzales Clustering"
   ]
  },
  {
   "cell_type": "code",
   "execution_count": 228,
   "metadata": {},
   "outputs": [
    {
     "name": "stdout",
     "output_type": "stream",
     "text": [
      "(180354, 33)\n",
      "482.2984345817432 176.66743438936408\n",
      "[[-147.  -132.  -213.   -61.   -44.     5.1    0.     0.     0.     4.9\n",
      "   -18.     0.     0.     0.     0.     0.    -5.8   27.     0.    10.5\n",
      "   -35.5   35.    22.5    0.    -4.8  130.   138.   138.    30.    55.\n",
      "    50.    40.    40. ]\n",
      " [ -27.   -30.   -24.   -23.    -7.     0.9    0.     0.     0.     2.2\n",
      "   -18.6    0.     0.     0.     0.     0.    -7.5   28.     0.     2.7\n",
      "   -40.5   45.     7.     0.    -8.8   16.    16.    18.   455.   465.\n",
      "   380.   480.   465. ]\n",
      " [ -36.   -21.   -24.   -23.    -8.     0.9    0.     0.     0.     1.8\n",
      "   -11.7    0.     0.     0.     0.     0.    -6.3   17.5    0.     3.6\n",
      "   -20.5    6.5    7.5    0.    -2.3   18.    18.    16.   210.   305.\n",
      "   285.   135.   210. ]]\n"
     ]
    }
   ],
   "source": [
    "\n",
    "clusters, three_cen_cost, three_mean_cost, centers = Gonzales(temp, temp[0,:], k=3)"
   ]
  },
  {
   "cell_type": "code",
   "execution_count": 229,
   "metadata": {},
   "outputs": [
    {
     "data": {
      "text/plain": [
       "(180354, 34)"
      ]
     },
     "execution_count": 229,
     "metadata": {},
     "output_type": "execute_result"
    }
   ],
   "source": [
    "clusters.shape"
   ]
  },
  {
   "cell_type": "code",
   "execution_count": 230,
   "metadata": {},
   "outputs": [
    {
     "data": {
      "text/plain": [
       "array([[-147. , -132. , -213. ,  -61. ,  -44. ,    5.1,    0. ,    0. ,\n",
       "           0. ,    4.9,  -18. ,    0. ,    0. ,    0. ,    0. ,    0. ,\n",
       "          -5.8,   27. ,    0. ,   10.5,  -35.5,   35. ,   22.5,    0. ,\n",
       "          -4.8,  130. ,  138. ,  138. ,   30. ,   55. ,   50. ,   40. ,\n",
       "          40. ],\n",
       "       [ -27. ,  -30. ,  -24. ,  -23. ,   -7. ,    0.9,    0. ,    0. ,\n",
       "           0. ,    2.2,  -18.6,    0. ,    0. ,    0. ,    0. ,    0. ,\n",
       "          -7.5,   28. ,    0. ,    2.7,  -40.5,   45. ,    7. ,    0. ,\n",
       "          -8.8,   16. ,   16. ,   18. ,  455. ,  465. ,  380. ,  480. ,\n",
       "         465. ],\n",
       "       [ -36. ,  -21. ,  -24. ,  -23. ,   -8. ,    0.9,    0. ,    0. ,\n",
       "           0. ,    1.8,  -11.7,    0. ,    0. ,    0. ,    0. ,    0. ,\n",
       "          -6.3,   17.5,    0. ,    3.6,  -20.5,    6.5,    7.5,    0. ,\n",
       "          -2.3,   18. ,   18. ,   16. ,  210. ,  305. ,  285. ,  135. ,\n",
       "         210. ]])"
      ]
     },
     "execution_count": 230,
     "metadata": {},
     "output_type": "execute_result"
    }
   ],
   "source": [
    "centers"
   ]
  },
  {
   "cell_type": "code",
   "execution_count": 232,
   "metadata": {},
   "outputs": [
    {
     "data": {
      "image/png": "[encoded data removed]",
      "text/plain": [
       "<Figure size 432x288 with 1 Axes>"
      ]
     },
     "metadata": {
      "needs_background": "light"
     },
     "output_type": "display_data"
    }
   ],
   "source": [
    "plot_clusters(clusters)"
   ]
  },
  {
   "cell_type": "markdown",
   "metadata": {},
   "source": [
    "# KMeans++"
   ]
  },
  {
   "cell_type": "code",
   "execution_count": 247,
   "metadata": {},
   "outputs": [],
   "source": [
    "def dist(a,b):\n",
    "    return np.linalg.norm(a-b)\n",
    "\n",
    "def KPP(data, c1, k=3):\n",
    "    n = len(data)\n",
    "    \n",
    "    assignments = dict([(_, 0) for _ in range(n)])\n",
    "    clusters = np.empty([k,len(c1)])\n",
    "    clusters[0, :] = c1\n",
    "    \n",
    "    for i in range(1,k):\n",
    "        weights = np.array([dist(d, clusters[assignments[idx], :])**2 for idx,d in enumerate(data)])\n",
    "        weights = weights/sum(weights)\n",
    "        centerIdx = np.random.choice(list(range(n)), p=weights)\n",
    "        clusters[i,:] = data[centerIdx,:]\n",
    "        for j in range(n):\n",
    "            if dist(data[j,:], clusters[assignments[j], :]) > dist(data[j,:], clusters[i,:]):\n",
    "                assignments[j] = i\n",
    "    arr = [dist(d, clusters[assignments[idx],:]) for idx,d in enumerate(data)]\n",
    "    max3cenCost = max(arr)\n",
    "    mean3Cost = sqrt(sum([x**2 for x in arr])/len(arr))\n",
    "   \n",
    "    data = np.append(data, np.array([[i] for i in list(assignments.values())]), axis=1)\n",
    "    return data, max3cenCost, mean3Cost, clusters"
   ]
  },
  {
   "cell_type": "code",
   "execution_count": 248,
   "metadata": {},
   "outputs": [],
   "source": [
    "kmpp_clusters, kmpp_three_cen_cost, kmpp_three_mean_cost, kmm_centers = KPP(temp, temp[0,:], k=3)"
   ]
  },
  {
   "cell_type": "code",
   "execution_count": 249,
   "metadata": {},
   "outputs": [
    {
     "data": {
      "image/png": "[encoded data removed]",
      "text/plain": [
       "<Figure size 432x288 with 1 Axes>"
      ]
     },
     "metadata": {
      "needs_background": "light"
     },
     "output_type": "display_data"
    }
   ],
   "source": [
    "plot_clusters(kmpp_clusters)"
   ]
  },
  {
   "cell_type": "markdown",
   "metadata": {},
   "source": [
    "# Lloyds"
   ]
  },
  {
   "cell_type": "code",
   "execution_count": 253,
   "metadata": {},
   "outputs": [],
   "source": [
    "def Lloyds(data, init_centers, k=3, r=10):\n",
    "    n = len(data)\n",
    "    centers = np.copy(init_centers)\n",
    "    assignments = defaultdict(list)\n",
    "    for _ in range(r):\n",
    "        old = np.copy(centers)\n",
    "        clusterIdx = defaultdict(list)\n",
    "        for i in range(n):\n",
    "            d = data[i,:]\n",
    "            minDist = np.argmin(np.apply_along_axis(dist, 1, centers, d))\n",
    "            clusterIdx[minDist].append(i)\n",
    "            assignments[i] = minDist\n",
    "        for i in range(k):\n",
    "            idxs = clusterIdx[i]\n",
    "            subset = data[idxs, :]\n",
    "            centers[i,:] = np.average(subset, axis=0)\n",
    "        if np.allclose(old, centers):\n",
    "            break\n",
    "            \n",
    "    arr = [dist(d, centers[assignments[idx],:]) for idx,d in enumerate(data)]\n",
    "    max3cenCost = max(arr)\n",
    "    mean3Cost = sqrt(sum([x**2 for x in arr])/len(data))\n",
    "    data = np.append(data, np.array([[i] for i in list(assignments.values())]), axis=1)\n",
    "   \n",
    "    return data, max3cenCost, mean3Cost, centers"
   ]
  },
  {
   "cell_type": "markdown",
   "metadata": {},
   "source": [
    "## Lloyds with KMeans++ centers"
   ]
  },
  {
   "cell_type": "code",
   "execution_count": 254,
   "metadata": {},
   "outputs": [],
   "source": [
    "ll_clusters, ll_max3cenCost, ll_mean3Cost, ll_centers = Lloyds(temp, kmm_centers, k=3)"
   ]
  },
  {
   "cell_type": "code",
   "execution_count": 255,
   "metadata": {},
   "outputs": [
    {
     "data": {
      "image/png": "[encoded data removed]",
      "text/plain": [
       "<Figure size 432x288 with 1 Axes>"
      ]
     },
     "metadata": {
      "needs_background": "light"
     },
     "output_type": "display_data"
    }
   ],
   "source": [
    "plot_clusters(ll_clusters)"
   ]
  },
  {
   "cell_type": "markdown",
   "metadata": {},
   "source": [
    "## Lloyds with Gonzales centers"
   ]
  },
  {
   "cell_type": "code",
   "execution_count": 256,
   "metadata": {},
   "outputs": [],
   "source": [
    "ll_g_clusters, ll_g_max3cenCost, ll_g_mean3Cost, ll_g_centers = Lloyds(temp,  centers, k=3)"
   ]
  },
  {
   "cell_type": "code",
   "execution_count": 258,
   "metadata": {},
   "outputs": [
    {
     "data": {
      "image/png": "[encoded data removed]",
      "text/plain": [
       "<Figure size 432x288 with 1 Axes>"
      ]
     },
     "metadata": {
      "needs_background": "light"
     },
     "output_type": "display_data"
    }
   ],
   "source": [
    "plot_clusters(ll_g_clusters)"
   ]
  },
  {
   "cell_type": "code",
   "execution_count": null,
   "metadata": {},
   "outputs": [],
   "source": []
  }
 ],
 "metadata": {
  "kernelspec": {
   "display_name": "Python 3",
   "language": "python",
   "name": "python3"
  },
  "language_info": {
   "codemirror_mode": {
    "name": "ipython",
    "version": 3
   },
   "file_extension": ".py",
   "mimetype": "text/x-python",
   "name": "python",
   "nbconvert_exporter": "python",
   "pygments_lexer": "ipython3",
   "version": "3.7.1"
  }
 },
 "nbformat": 4,
 "nbformat_minor": 2
}
