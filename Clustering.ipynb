{
 "cells": [
  {
   "cell_type": "code",
   "execution_count": 1,
   "metadata": {},
   "outputs": [],
   "source": [
    "import pandas as pd\n",
    "import numpy as np\n",
    "import seaborn as sns\n",
    "import matplotlib.pyplot as plt\n",
    "import os\n",
    "from Gonzales import Gonzales"
   ]
  },
  {
   "cell_type": "code",
   "execution_count": 3,
   "metadata": {},
   "outputs": [],
   "source": [
    "DATA_PATH = \"data\""
   ]
  },
  {
   "cell_type": "code",
   "execution_count": 4,
   "metadata": {},
   "outputs": [
    {
     "data": {
      "text/plain": [
       "['Team_Attributes.csv',\n",
       " 'Player.csv',\n",
       " 'Match.csv',\n",
       " 'League.csv',\n",
       " 'Country.csv',\n",
       " 'Player_Attributes.csv',\n",
       " 'Team.csv']"
      ]
     },
     "execution_count": 4,
     "metadata": {},
     "output_type": "execute_result"
    }
   ],
   "source": [
    "os.listdir(DATA_PATH)"
   ]
  },
  {
   "cell_type": "code",
   "execution_count": 6,
   "metadata": {},
   "outputs": [
    {
     "data": {
      "text/plain": [
       "(183978, 42)"
      ]
     },
     "execution_count": 6,
     "metadata": {},
     "output_type": "execute_result"
    }
   ],
   "source": [
    "player_attr_raw = pd.read_csv(os.path.join(DATA_PATH, 'Player_Attributes.csv'))\n",
    "player_attr_raw.shape"
   ]
  },
  {
   "cell_type": "code",
   "execution_count": 7,
   "metadata": {},
   "outputs": [
    {
     "data": {
      "text/plain": [
       "(180354, 42)"
      ]
     },
     "execution_count": 7,
     "metadata": {},
     "output_type": "execute_result"
    }
   ],
   "source": [
    "player_attr = player_attr_raw.dropna()\n",
    "player_attr.shape"
   ]
  },
  {
   "cell_type": "code",
   "execution_count": 8,
   "metadata": {},
   "outputs": [],
   "source": [
    "unique_foot = player_attr['preferred_foot'].unique()\n"
   ]
  },
  {
   "cell_type": "code",
   "execution_count": 9,
   "metadata": {},
   "outputs": [],
   "source": [
    "\n",
    "unqiue_off_rate = player_attr['attacking_work_rate'].unique()\n"
   ]
  },
  {
   "cell_type": "code",
   "execution_count": 10,
   "metadata": {},
   "outputs": [],
   "source": [
    "\n",
    "unqiue_def_rate = player_attr['defensive_work_rate'].unique()"
   ]
  },
  {
   "cell_type": "code",
   "execution_count": 11,
   "metadata": {},
   "outputs": [
    {
     "name": "stdout",
     "output_type": "stream",
     "text": [
      "<class 'pandas.core.frame.DataFrame'>\n",
      "Int64Index: 180354 entries, 0 to 183977\n",
      "Data columns (total 42 columns):\n",
      "id                     180354 non-null int64\n",
      "player_fifa_api_id     180354 non-null int64\n",
      "player_api_id          180354 non-null int64\n",
      "date                   180354 non-null object\n",
      "overall_rating         180354 non-null float64\n",
      "potential              180354 non-null float64\n",
      "preferred_foot         180354 non-null object\n",
      "attacking_work_rate    180354 non-null object\n",
      "defensive_work_rate    180354 non-null object\n",
      "crossing               180354 non-null float64\n",
      "finishing              180354 non-null float64\n",
      "heading_accuracy       180354 non-null float64\n",
      "short_passing          180354 non-null float64\n",
      "volleys                180354 non-null float64\n",
      "dribbling              180354 non-null float64\n",
      "curve                  180354 non-null float64\n",
      "free_kick_accuracy     180354 non-null float64\n",
      "long_passing           180354 non-null float64\n",
      "ball_control           180354 non-null float64\n",
      "acceleration           180354 non-null float64\n",
      "sprint_speed           180354 non-null float64\n",
      "agility                180354 non-null float64\n",
      "reactions              180354 non-null float64\n",
      "balance                180354 non-null float64\n",
      "shot_power             180354 non-null float64\n",
      "jumping                180354 non-null float64\n",
      "stamina                180354 non-null float64\n",
      "strength               180354 non-null float64\n",
      "long_shots             180354 non-null float64\n",
      "aggression             180354 non-null float64\n",
      "interceptions          180354 non-null float64\n",
      "positioning            180354 non-null float64\n",
      "vision                 180354 non-null float64\n",
      "penalties              180354 non-null float64\n",
      "marking                180354 non-null float64\n",
      "standing_tackle        180354 non-null float64\n",
      "sliding_tackle         180354 non-null float64\n",
      "gk_diving              180354 non-null float64\n",
      "gk_handling            180354 non-null float64\n",
      "gk_kicking             180354 non-null float64\n",
      "gk_positioning         180354 non-null float64\n",
      "gk_reflexes            180354 non-null float64\n",
      "dtypes: float64(35), int64(3), object(4)\n",
      "memory usage: 59.2+ MB\n"
     ]
    }
   ],
   "source": [
    "player_attr.info()"
   ]
  },
  {
   "cell_type": "code",
   "execution_count": 12,
   "metadata": {},
   "outputs": [],
   "source": [
    "vectorized_players_df = player_attr.drop(columns=['id','player_fifa_api_id',\n",
    "                                               'player_api_id', 'date', \n",
    "                                               'preferred_foot', 'attacking_work_rate',\n",
    "                                               'defensive_work_rate', 'overall_rating',\n",
    "                                            'potential'])"
   ]
  },
  {
   "cell_type": "code",
   "execution_count": 13,
   "metadata": {},
   "outputs": [
    {
     "data": {
      "text/plain": [
       "(180354, 33)"
      ]
     },
     "execution_count": 13,
     "metadata": {},
     "output_type": "execute_result"
    }
   ],
   "source": [
    "vectorized_players_df.shape"
   ]
  },
  {
   "cell_type": "code",
   "execution_count": 27,
   "metadata": {},
   "outputs": [
    {
     "name": "stdout",
     "output_type": "stream",
     "text": [
      "<class 'pandas.core.frame.DataFrame'>\n",
      "Int64Index: 180354 entries, 0 to 183977\n",
      "Data columns (total 33 columns):\n",
      "crossing              180354 non-null float64\n",
      "finishing             180354 non-null float64\n",
      "heading_accuracy      180354 non-null float64\n",
      "short_passing         180354 non-null float64\n",
      "volleys               180354 non-null float64\n",
      "dribbling             180354 non-null float64\n",
      "curve                 180354 non-null float64\n",
      "free_kick_accuracy    180354 non-null float64\n",
      "long_passing          180354 non-null float64\n",
      "ball_control          180354 non-null float64\n",
      "acceleration          180354 non-null float64\n",
      "sprint_speed          180354 non-null float64\n",
      "agility               180354 non-null float64\n",
      "reactions             180354 non-null float64\n",
      "balance               180354 non-null float64\n",
      "shot_power            180354 non-null float64\n",
      "jumping               180354 non-null float64\n",
      "stamina               180354 non-null float64\n",
      "strength              180354 non-null float64\n",
      "long_shots            180354 non-null float64\n",
      "aggression            180354 non-null float64\n",
      "interceptions         180354 non-null float64\n",
      "positioning           180354 non-null float64\n",
      "vision                180354 non-null float64\n",
      "penalties             180354 non-null float64\n",
      "marking               180354 non-null float64\n",
      "standing_tackle       180354 non-null float64\n",
      "sliding_tackle        180354 non-null float64\n",
      "gk_diving             180354 non-null float64\n",
      "gk_handling           180354 non-null float64\n",
      "gk_kicking            180354 non-null float64\n",
      "gk_positioning        180354 non-null float64\n",
      "gk_reflexes           180354 non-null float64\n",
      "dtypes: float64(33)\n",
      "memory usage: 46.8 MB\n"
     ]
    }
   ],
   "source": [
    "description = vectorized_players_df.describe()\n",
    "vectorized_players_df.info()"
   ]
  },
  {
   "cell_type": "code",
   "execution_count": 16,
   "metadata": {},
   "outputs": [],
   "source": [
    "vectorized_players = vectorized_players_df.values"
   ]
  },
  {
   "cell_type": "markdown",
   "metadata": {},
   "source": [
    "# Gonzales Clustering"
   ]
  },
  {
   "cell_type": "code",
   "execution_count": 61,
   "metadata": {},
   "outputs": [
    {
     "name": "stdout",
     "output_type": "stream",
     "text": [
      "204.39178065665948 102.52962266996589\n",
      "[[49. 44. 71. 61. 44. 51. 45. 39. 64. 49. 60. 64. 59. 47. 65. 55. 58. 54.\n",
      "  76. 35. 71. 70. 45. 54. 48. 65. 69. 69.  6. 11. 10.  8.  8.]\n",
      " [ 9. 10.  8. 23.  7.  9.  8. 88. 76. 22. 62. 44. 65. 89. 67. 24. 75. 56.\n",
      "  83.  9. 81. 90. 14. 70. 88.  8.  8.  9. 91. 93. 76. 96. 93.]\n",
      " [ 6.  9.  7.  5.  4.  4.  6.  1.  7.  7. 25. 21. 54. 28. 44.  5. 58. 23.\n",
      "  63.  2. 12.  4.  5.  6.  7.  6.  6. 11. 49. 42. 43. 49. 51.]]\n"
     ]
    }
   ],
   "source": [
    "clusters, three_cen_cost, three_mean_cost, centers = Gonzales(vectorized_players, vectorized_players[0,:], k=3)"
   ]
  },
  {
   "cell_type": "code",
   "execution_count": 62,
   "metadata": {},
   "outputs": [
    {
     "data": {
      "text/plain": [
       "(180354, 34)"
      ]
     },
     "execution_count": 62,
     "metadata": {},
     "output_type": "execute_result"
    }
   ],
   "source": [
    "clusters.shape"
   ]
  },
  {
   "cell_type": "code",
   "execution_count": 63,
   "metadata": {},
   "outputs": [
    {
     "data": {
      "text/plain": [
       "array([[49., 44., 71., 61., 44., 51., 45., 39., 64., 49., 60., 64., 59.,\n",
       "        47., 65., 55., 58., 54., 76., 35., 71., 70., 45., 54., 48., 65.,\n",
       "        69., 69.,  6., 11., 10.,  8.,  8.],\n",
       "       [ 9., 10.,  8., 23.,  7.,  9.,  8., 88., 76., 22., 62., 44., 65.,\n",
       "        89., 67., 24., 75., 56., 83.,  9., 81., 90., 14., 70., 88.,  8.,\n",
       "         8.,  9., 91., 93., 76., 96., 93.],\n",
       "       [ 6.,  9.,  7.,  5.,  4.,  4.,  6.,  1.,  7.,  7., 25., 21., 54.,\n",
       "        28., 44.,  5., 58., 23., 63.,  2., 12.,  4.,  5.,  6.,  7.,  6.,\n",
       "         6., 11., 49., 42., 43., 49., 51.]])"
      ]
     },
     "execution_count": 63,
     "metadata": {},
     "output_type": "execute_result"
    }
   ],
   "source": [
    "centers"
   ]
  },
  {
   "cell_type": "code",
   "execution_count": 64,
   "metadata": {},
   "outputs": [
    {
     "data": {
      "text/plain": [
       "(33,)"
      ]
     },
     "execution_count": 64,
     "metadata": {},
     "output_type": "execute_result"
    }
   ],
   "source": [
    "ranking_wgt_vector = np.array([\n",
    "    -1,-1,-1,-1,-1,\n",
    "    0,0,0,0,0,\n",
    "    0,0,0,0,0,\n",
    "    0,0,0,0,0,\n",
    "    -1,1,1,0,-1,\n",
    "    1,1,1,\n",
    "    2,2,2,2,2,\n",
    "])\n",
    "ranking_wgt_vector.shape"
   ]
  },
  {
   "cell_type": "code",
   "execution_count": 65,
   "metadata": {},
   "outputs": [],
   "source": [
    "ranks = np.dot(vectorized_players, ranking_wgt_vector)\n"
   ]
  },
  {
   "cell_type": "code",
   "execution_count": 66,
   "metadata": {},
   "outputs": [
    {
     "data": {
      "image/png": "[encoded data removed]",
      "text/plain": [
       "<Figure size 432x288 with 1 Axes>"
      ]
     },
     "metadata": {
      "needs_background": "light"
     },
     "output_type": "display_data"
    }
   ],
   "source": [
    "plt.scatter(list(ranks), [0]*len(ranks),c=clusters[:,-1])\n",
    "plt.show()"
   ]
  },
  {
   "cell_type": "code",
   "execution_count": null,
   "metadata": {},
   "outputs": [],
   "source": []
  }
 ],
 "metadata": {
  "kernelspec": {
   "display_name": "Python 3",
   "language": "python",
   "name": "python3"
  },
  "language_info": {
   "codemirror_mode": {
    "name": "ipython",
    "version": 3
   },
   "file_extension": ".py",
   "mimetype": "text/x-python",
   "name": "python",
   "nbconvert_exporter": "python",
   "pygments_lexer": "ipython3",
   "version": "3.7.1"
  }
 },
 "nbformat": 4,
 "nbformat_minor": 2
}
